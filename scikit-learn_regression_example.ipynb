{
 "cells": [
  {
   "attachments": {},
   "cell_type": "markdown",
   "metadata": {},
   "source": [
    "# Scikit Learn <a href=\"https://scikit-learn.org/stable/#\"><img id='logo' height=36 src=\"https://scikit-learn.org/stable/_static/scikit-learn-logo-small.png\"></a>\n",
    "<style>\n",
    "#logo {\n",
    "    background-color: white;\n",
    "    border-radius: 10px;\n",
    "    }\n",
    "</style>"
   ]
  },
  {
   "attachments": {},
   "cell_type": "markdown",
   "metadata": {},
   "source": [
    "scikit-learn (или sklearn) это библиотека на языке программирования Python, которая используется для решения задач машинного обучения, в том числе классификации, регрессии, кластеризации и обработки данных. Она предоставляет реализацию многих алгоритмов машинного обучения, таких как метод опорных векторов (SVM), случайный лес (Random Forest), метод главных компонент (PCA) и многие другие.\n",
    "\n",
    "Библиотека scikit-learn позволяет быстро создавать и применять модели машинного обучения на больших наборах данных. Она также включает в себя множество функций для предобработки данных, оценки качества моделей и выбора оптимальных параметров моделей."
   ]
  },
  {
   "attachments": {},
   "cell_type": "markdown",
   "metadata": {},
   "source": [
    "## Загрузка и визуализация данных "
   ]
  },
  {
   "cell_type": "code",
   "execution_count": 1,
   "metadata": {},
   "outputs": [
    {
     "data": {
      "text/html": [
       "<div>\n",
       "<style scoped>\n",
       "    .dataframe tbody tr th:only-of-type {\n",
       "        vertical-align: middle;\n",
       "    }\n",
       "\n",
       "    .dataframe tbody tr th {\n",
       "        vertical-align: top;\n",
       "    }\n",
       "\n",
       "    .dataframe thead th {\n",
       "        text-align: right;\n",
       "    }\n",
       "</style>\n",
       "<table border=\"1\" class=\"dataframe\">\n",
       "  <thead>\n",
       "    <tr style=\"text-align: right;\">\n",
       "      <th></th>\n",
       "      <th>temperature</th>\n",
       "      <th>ice_cream_sales</th>\n",
       "    </tr>\n",
       "  </thead>\n",
       "  <tbody>\n",
       "    <tr>\n",
       "      <th>0</th>\n",
       "      <td>11.9</td>\n",
       "      <td>125</td>\n",
       "    </tr>\n",
       "    <tr>\n",
       "      <th>1</th>\n",
       "      <td>12.1</td>\n",
       "      <td>158</td>\n",
       "    </tr>\n",
       "    <tr>\n",
       "      <th>2</th>\n",
       "      <td>12.7</td>\n",
       "      <td>156</td>\n",
       "    </tr>\n",
       "    <tr>\n",
       "      <th>3</th>\n",
       "      <td>12.9</td>\n",
       "      <td>162</td>\n",
       "    </tr>\n",
       "    <tr>\n",
       "      <th>4</th>\n",
       "      <td>13.2</td>\n",
       "      <td>152</td>\n",
       "    </tr>\n",
       "  </tbody>\n",
       "</table>\n",
       "</div>"
      ],
      "text/plain": [
       "   temperature  ice_cream_sales\n",
       "0         11.9              125\n",
       "1         12.1              158\n",
       "2         12.7              156\n",
       "3         12.9              162\n",
       "4         13.2              152"
      ]
     },
     "execution_count": 1,
     "metadata": {},
     "output_type": "execute_result"
    }
   ],
   "source": [
    "import pandas as pd\n",
    "import numpy as np\n",
    "import matplotlib.pyplot as plt\n",
    "\n",
    "ice_cream_data = pd.read_csv('ice_cream_selling_train_data.csv')\n",
    "ice_cream_data.head()"
   ]
  },
  {
   "cell_type": "code",
   "execution_count": 2,
   "metadata": {},
   "outputs": [
    {
     "data": {
      "text/plain": [
       "Text(0, 0.5, 'ice_cream_sales')"
      ]
     },
     "execution_count": 2,
     "metadata": {},
     "output_type": "execute_result"
    },
    {
     "data": {
      "image/png": "[encoded data removed]",
      "text/plain": [
       "<Figure size 640x480 with 1 Axes>"
      ]
     },
     "metadata": {},
     "output_type": "display_data"
    }
   ],
   "source": [
    "X = ice_cream_data['temperature']\n",
    "y = ice_cream_data['ice_cream_sales']\n",
    "plt.scatter(X, y)\n",
    "plt.ylim(0, 270)\n",
    "plt.xlabel('temperature')\n",
    "plt.ylabel('ice_cream_sales')"
   ]
  },
  {
   "cell_type": "code",
   "execution_count": 3,
   "metadata": {},
   "outputs": [
    {
     "data": {
      "text/plain": [
       "(40, 2)"
      ]
     },
     "execution_count": 3,
     "metadata": {},
     "output_type": "execute_result"
    }
   ],
   "source": [
    "# посмотрим на форму загруженных данных:\n",
    "ice_cream_data.shape"
   ]
  },
  {
   "attachments": {},
   "cell_type": "markdown",
   "metadata": {},
   "source": [
    "## Постановка задачи линейной регрессии\n",
    "\n",
    "### Задача регрессии\n",
    "Загруженные данные содержат 40 строк и 2 столбца. Соответственно, в нашем распоряжении 40 образцов с двумя признаками: `temperature` и `ice_cream_sales`. Значения признака `ice_cream_sales` некоторым образом зависит от значений `temperature`. Задача заключается в том, чтобы найти эту закономерность: построить некоторую функцию, которая выражала бы эту зависимость. Это и есть задача регрессии: в общем случае у нас есть целевой числовой признак, который каким-то образом зависит от других признаков, и нужно выяснить, какая функция выражает эту зависимость. В нашем случае у нас есть лишь один нецелевой признак `temperature`, от которого зависит целевой признак `ice_cream_sales`, но чаще целевой признак зависит от многих (нецелевых) признаков."
   ]
  },
  {
   "attachments": {},
   "cell_type": "markdown",
   "metadata": {},
   "source": [
    "### Линейная зависимость\n",
    "Мы говорим, что целевой признак зависит **линейно** от другого нецелевого признака, если с увеличением значений нецелевого признаков в $k$ раз, целевой признак также увеличивается в $k$ раз. Посмотрим на график. При температуре около 16 градусов значения продаж мороженного лежат около 160. Если увеличить температуру в полтора раза, то при 24 градусах значения продаж мороженного будут лежать около 240, т.е. значения целевого признака также увеличиваются примерно в полтора раза. Так что в наших данных прослеживается линайная зависимость. Математически линейная зависимость одного признака от другого описывается прямой. \n",
    "Формула прямой \n",
    "$$\n",
    "y = a + bx\n",
    "$$\n",
    "Здесь мы можем сказать, что переменная $y$ зависит от переменной $x$ линейным образом. Параметры $a$ и $b$ определяют расположение и ориентацию прямой на плоскости. Прямая, которая описывает зависимость в наших данных, должна располагаться на плоскости так, чтобы все точки оказались как можно ближе к ней. \n",
    "\n",
    "Если целевой признак $y$ зависит от нескольких других признаков $x_1, x_2, \\ldots ,x_n$. То формула линейной зависимости будет выглядеть так:\n",
    "$$\n",
    "y = a + b_1 x_1 + b_2 x_2 + \\dots + b_n x_n\n",
    "$$"
   ]
  },
  {
   "attachments": {},
   "cell_type": "markdown",
   "metadata": {},
   "source": [
    "### Линейная регрессия\n",
    "Целевой признак может зависеть от других признаков довольно сложным образом. Наиболее простым случаем является линейная зависимость. Поэтому, можно начинать с предположения, что целевой признак зависит от других признаков линейным образом, и попробовать решить задачу. И даже если зависимость не является строго линейной, то вполне может быть, что линейное приближение дает приемлемый результат. Оценив результат решения задачи, можно сделать вывод, годится ли такое решение. Если зависимость существенно отличается от линейной, то следует искать нелинейные зависимости."
   ]
  },
  {
   "attachments": {},
   "cell_type": "markdown",
   "metadata": {},
   "source": [
    "## Разбиение данных на обучающую и тестовую выборки\n",
    "\n",
    "Первым делом, нам следует разбить весь набор данных на тренировочную (обучающую) и тестовую выборки. Это необходимо для того, чтобы мы могли проконтролировать правильность работы модели. Ведь может получиться так, что модель хорошо прогнозирует на тех данных, на которых мы ее обучили, и плохо прогнозирует на данных, которые она еще \"не видела\". Поэтому мы целенаправленно отбираем из исходных данных некоторый тестовый набор, который не будет участвовать в обучении. И на этом наборе мы будем проверять, умеет ли модель хорошо прогнозировать целевое значение. Такую проверку еще называют валидацией.\n",
    "\n",
    "Можно самостоятельно написать функцию, которая будет разделять исходные данные на две выборки, но мы воспользуемся функцией `train_test_split()`, которая предоставляется библиотекой `sklearn` в модуле `model_selection`. Первым аргументом в эту функцию передается набор данных, который может быть представлен как объект `DataFrame` или как массив NumPy. Доля данных, которая будет отведена на тестовую выборку указывается в аргументе `test_size`. Обычно достаточно отобрать пятую часть (`0.2`) от всей выборки. Функция `train_test_split()` возвращает кортеж из двух элементов: первый элемент - тренировочная выборка, второй элемент - тестовая выборка. Присвоим эти значения переменным `train_data` и `test_data` соответственно."
   ]
  },
  {
   "cell_type": "code",
   "execution_count": 4,
   "metadata": {},
   "outputs": [],
   "source": [
    "from sklearn.model_selection import train_test_split\n",
    "\n",
    "train_data, test_data = train_test_split(ice_cream_data, test_size=0.2)"
   ]
  },
  {
   "cell_type": "code",
   "execution_count": 5,
   "metadata": {},
   "outputs": [
    {
     "data": {
      "text/html": [
       "<div>\n",
       "<style scoped>\n",
       "    .dataframe tbody tr th:only-of-type {\n",
       "        vertical-align: middle;\n",
       "    }\n",
       "\n",
       "    .dataframe tbody tr th {\n",
       "        vertical-align: top;\n",
       "    }\n",
       "\n",
       "    .dataframe thead th {\n",
       "        text-align: right;\n",
       "    }\n",
       "</style>\n",
       "<table border=\"1\" class=\"dataframe\">\n",
       "  <thead>\n",
       "    <tr style=\"text-align: right;\">\n",
       "      <th></th>\n",
       "      <th>temperature</th>\n",
       "      <th>ice_cream_sales</th>\n",
       "    </tr>\n",
       "  </thead>\n",
       "  <tbody>\n",
       "    <tr>\n",
       "      <th>9</th>\n",
       "      <td>14.5</td>\n",
       "      <td>150</td>\n",
       "    </tr>\n",
       "    <tr>\n",
       "      <th>14</th>\n",
       "      <td>16.2</td>\n",
       "      <td>180</td>\n",
       "    </tr>\n",
       "    <tr>\n",
       "      <th>31</th>\n",
       "      <td>22.9</td>\n",
       "      <td>209</td>\n",
       "    </tr>\n",
       "    <tr>\n",
       "      <th>25</th>\n",
       "      <td>21.0</td>\n",
       "      <td>187</td>\n",
       "    </tr>\n",
       "    <tr>\n",
       "      <th>27</th>\n",
       "      <td>21.8</td>\n",
       "      <td>194</td>\n",
       "    </tr>\n",
       "    <tr>\n",
       "      <th>5</th>\n",
       "      <td>13.5</td>\n",
       "      <td>168</td>\n",
       "    </tr>\n",
       "    <tr>\n",
       "      <th>3</th>\n",
       "      <td>12.9</td>\n",
       "      <td>162</td>\n",
       "    </tr>\n",
       "    <tr>\n",
       "      <th>26</th>\n",
       "      <td>21.3</td>\n",
       "      <td>175</td>\n",
       "    </tr>\n",
       "  </tbody>\n",
       "</table>\n",
       "</div>"
      ],
      "text/plain": [
       "    temperature  ice_cream_sales\n",
       "9          14.5              150\n",
       "14         16.2              180\n",
       "31         22.9              209\n",
       "25         21.0              187\n",
       "27         21.8              194\n",
       "5          13.5              168\n",
       "3          12.9              162\n",
       "26         21.3              175"
      ]
     },
     "execution_count": 5,
     "metadata": {},
     "output_type": "execute_result"
    }
   ],
   "source": [
    "# заметим, что отбираются случайные образцы, и производится их перетосовка:\n",
    "test_data"
   ]
  },
  {
   "attachments": {},
   "cell_type": "markdown",
   "metadata": {},
   "source": [
    "Теперь, когда данные разбиты на тренировочную и тестовую выборки, преобразуем их в массивы NumPy при помощи метода `to_numpy()`. В `X_train` присвоится массив, содержащий значения признака `temperature`, а в `y_train` - значения целевого признака `ice_cream_sales`, из тренировочного набора. Аналогичным образом, переменным `X_test` и `y_test` присваиваются данные из тестового набора:"
   ]
  },
  {
   "cell_type": "code",
   "execution_count": 6,
   "metadata": {},
   "outputs": [
    {
     "name": "stdout",
     "output_type": "stream",
     "text": [
      "ice_cream_data.shape = (40, 2)\n",
      "X_train.shape = (32,), y_train.shape = (32,)\n",
      "X_test.shape = (8,), y_test.shape = (8,)\n"
     ]
    }
   ],
   "source": [
    "X_train = train_data['temperature'].to_numpy()\n",
    "y_train = train_data['ice_cream_sales'].to_numpy()\n",
    "\n",
    "X_test = test_data['temperature'].to_numpy()\n",
    "y_test = test_data['ice_cream_sales'].to_numpy()\n",
    "\n",
    "# посмотрим на формы массивов:\n",
    "print(f\"{ice_cream_data.shape = }\")\n",
    "print(f\"{X_train.shape = }, {y_train.shape = }\")\n",
    "print(f\"{X_test.shape = }, {y_test.shape = }\")"
   ]
  },
  {
   "attachments": {},
   "cell_type": "markdown",
   "metadata": {},
   "source": [
    "Обычно признаков много, и `X_train` представляет собой двумерную матрицу, строки которой соответствуют образцам выборки, а столбцы - признакам. Поэтому стандартным представлением выборки является двумерный массив. В нашем случае, так как нецелевой признак у нас единственный, то для `X_train` и `X_test` метод `to_numpy()` вернул одномерные массивы, с формами `(32,)` и `(8,)` соответственно. Поэтому необходимо преобразовать их в привычную форму при помощи метода `reshape()`. Подробнее о том, как работает этот метод смотрите в файле numpy_example.ipynb."
   ]
  },
  {
   "cell_type": "code",
   "execution_count": 7,
   "metadata": {},
   "outputs": [
    {
     "name": "stdout",
     "output_type": "stream",
     "text": [
      "X_train.shape = (32, 1)\n",
      "X_test.shape = (8, 1)\n"
     ]
    }
   ],
   "source": [
    "X_train = X_train.reshape((32, 1))\n",
    "X_test = X_test.reshape((8, 1))\n",
    "\n",
    "print(f\"{X_train.shape = }\")\n",
    "print(f\"{X_test.shape = }\")"
   ]
  },
  {
   "attachments": {},
   "cell_type": "markdown",
   "metadata": {},
   "source": [
    "Теперь массивы `X_train` и `X_test` являются двумерными массивами, содержащими по одному столбцу. Если признаков будет больше, то такой трансформации формы производить не придется."
   ]
  },
  {
   "attachments": {},
   "cell_type": "markdown",
   "metadata": {},
   "source": [
    "## Выбор модели и обучение \n",
    "\n",
    "Модель машинного обучения, которую мы будем использовать для решения задачи линейной регрессии реализована в классе `LinearRegression` модуля `linear_model` библиотеки `sklearn`. Данная модель способна решать задачу линейной регрессии. О том, что такое модель, и как именно она это делает, будет написано ниже. А сейчас просто воспользуемся этой моделью дла решения задачи. Первым делом создается объект модели, как экзепляр класса `LinearRegression`. Теперь необходимо обучить модель. Обучение модели производится при помощи метода `fit()`. Первым аргументом модель получает двумерный массив, строки которого соответсвуют образцам тренировочной выборки, а столбцы соответсвтуют признакам, т.е. матрицу с тернировочными данными, содержащими нецелевые признаки. Вторым аргументом передается массив, содержащий значения целевого признака."
   ]
  },
  {
   "cell_type": "code",
   "execution_count": 8,
   "metadata": {},
   "outputs": [
    {
     "data": {
      "text/html": [
       "<style>#sk-container-id-1 {color: black;background-color: white;}#sk-container-id-1 pre{padding: 0;}#sk-container-id-1 div.sk-toggleable {background-color: white;}#sk-container-id-1 label.sk-toggleable__label {cursor: pointer;display: block;width: 100%;margin-bottom: 0;padding: 0.3em;box-sizing: border-box;text-align: center;}#sk-container-id-1 label.sk-toggleable__label-arrow:before {content: \"▸\";float: left;margin-right: 0.25em;color: #696969;}#sk-container-id-1 label.sk-toggleable__label-arrow:hover:before {color: black;}#sk-container-id-1 div.sk-estimator:hover label.sk-toggleable__label-arrow:before {color: black;}#sk-container-id-1 div.sk-toggleable__content {max-height: 0;max-width: 0;overflow: hidden;text-align: left;background-color: #f0f8ff;}#sk-container-id-1 div.sk-toggleable__content pre {margin: 0.2em;color: black;border-radius: 0.25em;background-color: #f0f8ff;}#sk-container-id-1 input.sk-toggleable__control:checked~div.sk-toggleable__content {max-height: 200px;max-width: 100%;overflow: auto;}#sk-container-id-1 input.sk-toggleable__control:checked~label.sk-toggleable__label-arrow:before {content: \"▾\";}#sk-container-id-1 div.sk-estimator input.sk-toggleable__control:checked~label.sk-toggleable__label {background-color: #d4ebff;}#sk-container-id-1 div.sk-label input.sk-toggleable__control:checked~label.sk-toggleable__label {background-color: #d4ebff;}#sk-container-id-1 input.sk-hidden--visually {border: 0;clip: rect(1px 1px 1px 1px);clip: rect(1px, 1px, 1px, 1px);height: 1px;margin: -1px;overflow: hidden;padding: 0;position: absolute;width: 1px;}#sk-container-id-1 div.sk-estimator {font-family: monospace;background-color: #f0f8ff;border: 1px dotted black;border-radius: 0.25em;box-sizing: border-box;margin-bottom: 0.5em;}#sk-container-id-1 div.sk-estimator:hover {background-color: #d4ebff;}#sk-container-id-1 div.sk-parallel-item::after {content: \"\";width: 100%;border-bottom: 1px solid gray;flex-grow: 1;}#sk-container-id-1 div.sk-label:hover label.sk-toggleable__label {background-color: #d4ebff;}#sk-container-id-1 div.sk-serial::before {content: \"\";position: absolute;border-left: 1px solid gray;box-sizing: border-box;top: 0;bottom: 0;left: 50%;z-index: 0;}#sk-container-id-1 div.sk-serial {display: flex;flex-direction: column;align-items: center;background-color: white;padding-right: 0.2em;padding-left: 0.2em;position: relative;}#sk-container-id-1 div.sk-item {position: relative;z-index: 1;}#sk-container-id-1 div.sk-parallel {display: flex;align-items: stretch;justify-content: center;background-color: white;position: relative;}#sk-container-id-1 div.sk-item::before, #sk-container-id-1 div.sk-parallel-item::before {content: \"\";position: absolute;border-left: 1px solid gray;box-sizing: border-box;top: 0;bottom: 0;left: 50%;z-index: -1;}#sk-container-id-1 div.sk-parallel-item {display: flex;flex-direction: column;z-index: 1;position: relative;background-color: white;}#sk-container-id-1 div.sk-parallel-item:first-child::after {align-self: flex-end;width: 50%;}#sk-container-id-1 div.sk-parallel-item:last-child::after {align-self: flex-start;width: 50%;}#sk-container-id-1 div.sk-parallel-item:only-child::after {width: 0;}#sk-container-id-1 div.sk-dashed-wrapped {border: 1px dashed gray;margin: 0 0.4em 0.5em 0.4em;box-sizing: border-box;padding-bottom: 0.4em;background-color: white;}#sk-container-id-1 div.sk-label label {font-family: monospace;font-weight: bold;display: inline-block;line-height: 1.2em;}#sk-container-id-1 div.sk-label-container {text-align: center;}#sk-container-id-1 div.sk-container {/* jupyter's `normalize.less` sets `[hidden] { display: none; }` but bootstrap.min.css set `[hidden] { display: none !important; }` so we also need the `!important` here to be able to override the default hidden behavior on the sphinx rendered scikit-learn.org. See: https://github.com/scikit-learn/scikit-learn/issues/21755 */display: inline-block !important;position: relative;}#sk-container-id-1 div.sk-text-repr-fallback {display: none;}</style><div id=\"sk-container-id-1\" class=\"sk-top-container\"><div class=\"sk-text-repr-fallback\"><pre>LinearRegression()</pre><b>In a Jupyter environment, please rerun this cell to show the HTML representation or trust the notebook. <br />On GitHub, the HTML representation is unable to render, please try loading this page with nbviewer.org.</b></div><div class=\"sk-container\" hidden><div class=\"sk-item\"><div class=\"sk-estimator sk-toggleable\"><input class=\"sk-toggleable__control sk-hidden--visually\" id=\"sk-estimator-id-1\" type=\"checkbox\" checked><label for=\"sk-estimator-id-1\" class=\"sk-toggleable__label sk-toggleable__label-arrow\">LinearRegression</label><div class=\"sk-toggleable__content\"><pre>LinearRegression()</pre></div></div></div></div></div>"
      ],
      "text/plain": [
       "LinearRegression()"
      ]
     },
     "execution_count": 8,
     "metadata": {},
     "output_type": "execute_result"
    }
   ],
   "source": [
    "from sklearn.linear_model import LinearRegression\n",
    "\n",
    "# создается объект модели:\n",
    "model = LinearRegression()       \n",
    "# обучение модели на тренировочных данных:\n",
    "model.fit(X_train, y_train)      "
   ]
  },
  {
   "attachments": {},
   "cell_type": "markdown",
   "metadata": {},
   "source": [
    "## Прогнозирование\n",
    "Теперь, когда модель обучена, она способна прогнозировать целевое значение по заданному нецелевому признаку. Это делается при помощи метода `predict()`, в которой передается один аргумент, содержащий данные с нецелевыми признаками, например, `X_test`. Метод вернет массив содержащий спрогнозированные целевые значения. Присвоим этот массив переменной `y_test_predicted`. Напечатаем в виде таблицы значения, содержащиеся в переменных `X_test`, `y_test` и `y_test_predicted`, чтобы сравнить фактические значения целевого признака и спрогнозированные значения."
   ]
  },
  {
   "cell_type": "code",
   "execution_count": 9,
   "metadata": {},
   "outputs": [
    {
     "name": "stdout",
     "output_type": "stream",
     "text": [
      "X_test\ty_test\ty_test_predicted\n",
      "------------------------------\n",
      "[16.2]\t180\t165\n",
      "[12.9]\t162\t140\n",
      "[16.2]\t180\t165\n",
      "[22.9]\t209\t214\n",
      "[21.]\t187\t200\n",
      "[21.8]\t194\t206\n",
      "[13.5]\t168\t145\n",
      "[22.9]\t209\t214\n",
      "[13.5]\t168\t145\n",
      "[21.]\t187\t200\n"
     ]
    }
   ],
   "source": [
    "y_test_predicted = model.predict(X_test)\n",
    "\n",
    "# напечатаем результат в виде таблицы\n",
    "header = f\"X_test\\ty_test\\ty_test_predicted\"\n",
    "print(header, '\\n', '-'*len(header), sep='')\n",
    "for j in range(10):\n",
    "    i = np.random.randint(0, len(y_test))\n",
    "    print(f\"{X_test[i]}\\t{y_test[i]}\\t{int(y_test_predicted[i])}\")"
   ]
  },
  {
   "attachments": {},
   "cell_type": "markdown",
   "metadata": {},
   "source": [
    "Произведем прогнозирование также и на тренировочных данных `X_train` и результат присвоим переменной `y_train_predicted`. Нарисуем распределения точек выборки функцией `scatter()`, а для отрисовки точек, соответствующих спрогнозированным значениям, используем функцию `plot()` чтобы получить линию, соединяющую эти точки. Данные тренировочной выборки изображены серыми точками, а данные тестовой выборки - зелеными. "
   ]
  },
  {
   "cell_type": "code",
   "execution_count": 10,
   "metadata": {},
   "outputs": [
    {
     "data": {
      "text/plain": [
       "Text(0, 0.5, 'ice_cream_sales')"
      ]
     },
     "execution_count": 10,
     "metadata": {},
     "output_type": "execute_result"
    },
    {
     "data": {
      "image/png": "[encoded data removed]",
      "text/plain": [
       "<Figure size 640x480 with 1 Axes>"
      ]
     },
     "metadata": {},
     "output_type": "display_data"
    }
   ],
   "source": [
    "# произведем прогнозирование на тренировочных данных\n",
    "y_train_predicted = model.predict(X_train.reshape(-1, 1))\n",
    "\n",
    "plt.scatter(X_train, y_train, c='grey', s=15)\n",
    "plt.scatter(X_test, y_test, c='green')\n",
    "plt.plot(X_train, y_train_predicted)\n",
    "plt.ylim(0, 270)\n",
    "\n",
    "plt.xlabel('temperature')\n",
    "plt.ylabel('ice_cream_sales')"
   ]
  },
  {
   "attachments": {},
   "cell_type": "markdown",
   "metadata": {},
   "source": [
    "Линия, соединяющая спрогнозированные значения получилась прямой, как и ожидалось от линейной регрессии. Эта прямая действительно довольно близко расположилась к точкам. Попробуйте использовать функцию `scatter()` вместо `plot()` и непосредственно посмотреть на прогнозные точки."
   ]
  },
  {
   "attachments": {},
   "cell_type": "markdown",
   "metadata": {},
   "source": [
    "### Оценка результата"
   ]
  },
  {
   "attachments": {},
   "cell_type": "markdown",
   "metadata": {},
   "source": [
    "Для того, чтобы оценить регрессионную модель, можно оценить среднеквадратическое отклонение, используя функцию `mean_squared_error()` из модуля `metrics` библиотеки `sklearn`."
   ]
  },
  {
   "cell_type": "code",
   "execution_count": 11,
   "metadata": {},
   "outputs": [
    {
     "name": "stdout",
     "output_type": "stream",
     "text": [
      "train_rmse = 16.45814118675607, test_rmse = 17.039130405645665\n"
     ]
    }
   ],
   "source": [
    "from sklearn.metrics import mean_squared_error as mse\n",
    "\n",
    "train_rmse = mse(y_train, y_train_predicted, squared=False)\n",
    "test_rmse = mse(y_test, y_test_predicted, squared=False)\n",
    "\n",
    "print(f'{train_rmse = }, {test_rmse = }')"
   ]
  },
  {
   "attachments": {},
   "cell_type": "markdown",
   "metadata": {},
   "source": [
    "**Среднеквадратическая ошибка**\n",
    "$$\n",
    "\\mathrm{MSE} =  \\frac{1}{n} \\left[(y_1 - \\hat{y_1})^2 + \\dots + (y_n - \\hat{y_n} )^2 \\right]\n",
    "$$\n",
    "В литературе часто встречается такая сокращенная запись:\n",
    "$$\n",
    "\\mathrm{MSE} = \\frac{1}{n} \\sum_{i=1}^n (y_i - \\hat{y_i} )^2\n",
    "$$\n",
    "где $y_i$ - значения из тестовой выборки, $\\hat y_i$ - значения, спрогнозированные моделью (для $i$-го образца.\n",
    "\n",
    "**Среднеквадратическое отклонение** выражается как корень от среднеквадратической ошибки:\n",
    "$$\n",
    "\\mathrm{RMSE} = \\sqrt{\\mathrm{MSE}}\n",
    "$$\n",
    "Функция `mean_squared_error()` вычисляет среднеквадратическую ошибку (MSE) для двух массивов. Если задать параметр `squared=False`, то функция вычислит среднеквадратическое отклонение (RMSE). Для наглядности, вычислим среднеквадратическую ошибку средствами NumPy, чтобы лучше представить себе, что именно происходит внутри функции `mean_squared_error()`:"
   ]
  },
  {
   "cell_type": "code",
   "execution_count": 12,
   "metadata": {},
   "outputs": [
    {
     "name": "stdout",
     "output_type": "stream",
     "text": [
      "17.039130405645665\n"
     ]
    }
   ],
   "source": [
    "test_mse = np.mean((y_test - y_test_predicted) ** 2)\n",
    "test_rmse = np.sqrt(test_mse)\n",
    "print(test_rmse)"
   ]
  },
  {
   "attachments": {},
   "cell_type": "markdown",
   "metadata": {},
   "source": [
    "## Что под капотом?\n",
    "### Понятие модели на примере класса `LinearRegression`\n",
    "Моделью в нашем случае называется некоторый объект, который способен получить на \"вход\" нецелевые признаки образца выборки и дать на \"выходе\" целевое значение, которое мы хотим прогнозировать. В рассмотренном выше примере модель представляет собой объект класса `LinearRegression`. На вход она получает единственный признак образца (температуру), на выходе возвращает целевое значение (сколько мороженного ожидается продать при такой температуре). Отвечает за это метод `predict()` (\"*predict*\" означает \"прогнозировать\"). Модель класса `LinearRegression` способна решить задачу линейной регрессии, как можно понять из названия. Для этого необходимо произвести обучение на тренировочных данных. За это отвечает метод `fit()`. Первым аргументом метод получает данные нецелевых признаков образцов выборки, а вторым аргументом получает \"правильные\" ответы (известные значения целевого признака). Часто при этом говорят, что данные \"скармливаются\" модели.\n",
    "\n",
    "Модель в машинном обучении всегда содержит внутри себя параметры, которые подгоняются к оптимальным значениям в процессе обучения (\"*fit*\" означает \"подогнать\"). В результате обучения модели класса `LinearRegression` на одномерных данных, модель создает прямую $f(x) = a + bx$, которая выражает зависимость целевого признака (*target feature*) от единственного (нецелевого) признака. В нашем случае эта прямая должна отражать зависимость продаж мороженного (ice_cream_sales) от уличной температуры (temperature). Параметрами модели являются коэффициенты $a$ и $b$, которые однозначно задают прямую на плоскости признаков."
   ]
  },
  {
   "attachments": {},
   "cell_type": "markdown",
   "metadata": {},
   "source": [
    "### Метрика\n",
    "В случае задачи одномерной линейной регрессии \"подогнать параметры к оптимальным значениям\" означает найти такие $a$ и $b$, при которых прямая $f(x) = a + bx$ лучше всего выражает зависимость продаж мороженного от температуры. Но как мы будем определять, какая прямая \"лучше\"? Рассмотрим пару вариантов. Значение температуры произвольной $i$-строки в данных обозначим $x_i$, а соответствующее ему значение продаж мороженного обозначим $y_i$. Когда модель будет прогнозировать значение продаж мороженного по заданному значению температуры $x_i$, результатом будет $\\hat y_i = a + bx_i$. Присмотримся к разности $y_i - \\hat y_i$ (которую в литературе называют невязкой). Если точка оказывается выше прямой, то это значит, что $y_i > \\hat y_i$ и разность будет положительной. Если точка ниже прямой, то разность отрицательная, а если точка лежит на прямой, то разность равна нулю. Что если мы возьмем среднее разностей по всем образцам наших данных и будем считать, что лучшая прямая та, у которой минимальна средняя разность?\n",
    "$$\n",
    "\\frac{1}{n}\\left[(y_1 - \\hat y_1) + \\dots + (y_n - \\hat y_n) \\right]\n",
    "$$\n",
    "Рассмотрим три прямые и соответствующие им средние разности"
   ]
  },
  {
   "cell_type": "code",
   "execution_count": 13,
   "metadata": {},
   "outputs": [
    {
     "name": "stdout",
     "output_type": "stream",
     "text": [
      "mean differences\n",
      "green: -0.010000\n",
      "orange: 71.452000\n",
      "red: -2322.9\n"
     ]
    },
    {
     "data": {
      "text/plain": [
       "[<matplotlib.lines.Line2D at 0x2375e3f8730>]"
      ]
     },
     "execution_count": 13,
     "metadata": {},
     "output_type": "execute_result"
    },
    {
     "data": {
      "image/png": "[encoded data removed]",
      "text/plain": [
       "<Figure size 640x480 with 1 Axes>"
      ]
     },
     "metadata": {},
     "output_type": "display_data"
    }
   ],
   "source": [
    "def mean_differences(y1, y2):\n",
    "    return np.sum(y1 - y2) / len(y1)\n",
    "\n",
    "def f(x, a, b):\n",
    "    return a + b*x\n",
    "\n",
    "y_cross = f(X_train, 349.164, -9)\n",
    "y_over = f(X_train, 200, 3)\n",
    "\n",
    "print(\"mean differences\")\n",
    "print(f\"green: {mean_differences(y_train, y_train_predicted+.01) :3f}\")\n",
    "print(f\"orange: {mean_differences(y_train, y_cross) :3f}\")\n",
    "print(f\"red: {mean_differences(y_train, y_over)}\")\n",
    "\n",
    "plt.scatter(X_train, y_train)\n",
    "plt.plot(X_train, y_train_predicted+0.01, color='green')\n",
    "plt.plot(X_train, y_cross, color='orange')\n",
    "plt.plot(X_train, y_over, color='red')\n",
    "# plt.ylim(0, 260)"
   ]
  },
  {
   "attachments": {},
   "cell_type": "markdown",
   "metadata": {},
   "source": [
    "Очевидно, что выбор прямой с минимальной средней разностью будет не лучшим решением, ведь в нашем случае это красная прямая. Это произошло от того, что все точки находятся под красной кривой и их разности отрицательные. Так, суммируя разности мы получили отрицательное число с большим абсолютным значением.\n",
    "\n",
    "Заметим, что средняя разность оранжевой прямой, хотя она совсем не выражает зависимость в данных, довольно близка к нулю, как и средняя разность зеленой прямой. Посмотрим, какие значения принимают разности для оранжевой прямой."
   ]
  },
  {
   "cell_type": "code",
   "execution_count": 22,
   "metadata": {},
   "outputs": [
    {
     "name": "stdout",
     "output_type": "stream",
     "text": [
      "[-117.064  106.036   19.636  -19.764  126.736  -82.264   69.636]\n"
     ]
    }
   ],
   "source": [
    "lenght = y_cross.shape[0]\n",
    "print((y_train - y_cross.reshape(lenght))[:7])      # первые 7 образцов"
   ]
  },
  {
   "attachments": {},
   "cell_type": "markdown",
   "metadata": {},
   "source": [
    "Часть точек оказалось под оранжевой прямой и их разности отрицательны, а другая часть оказалась над прямой, их разности положительны. И несмотря на то, что, абсолютные значения этих разностей весьма велики, при суммировании, они компенсируют друг друга и итоговое значение средней разности оказывается близким к нулю. \n",
    "\n",
    "Если бы мы суммировали не сами разности, а их абсолютные значения, то такой компенсации не получилось бы, и оранжевая прямая дала бы большое значение разности. Обозначим среднее от модулей разностей буквой $E_1$\n",
    "$$\n",
    "E_1 = \\frac{1}{n} \\sum_{i=1}^{n} |y_i - \\hat y_i| = \\frac{1}{n}\\left(|y_1 - \\hat y_1| + \\dots + |y_n - \\hat y_n| \\right)\n",
    "$$"
   ]
  },
  {
   "cell_type": "code",
   "execution_count": 15,
   "metadata": {},
   "outputs": [
    {
     "name": "stdout",
     "output_type": "stream",
     "text": [
      "mean abs differences\n",
      "green: 14.514539\n",
      "orange: 1362.192750\n",
      "red: 2339.03125\n"
     ]
    },
    {
     "data": {
      "text/plain": [
       "[<matplotlib.lines.Line2D at 0x2375e48e610>]"
      ]
     },
     "execution_count": 15,
     "metadata": {},
     "output_type": "execute_result"
    },
    {
     "data": {
      "image/png": "[encoded data removed]",
      "text/plain": [
       "<Figure size 640x480 with 1 Axes>"
      ]
     },
     "metadata": {},
     "output_type": "display_data"
    }
   ],
   "source": [
    "def mean_abs_differences(y1, y2):\n",
    "    return np.sum(np.abs(y1 - y2)) / len(y1)\n",
    "\n",
    "print(\"mean abs differences\")\n",
    "print(f\"green: {mean_abs_differences(y_train, y_train_predicted+.01) :3f}\")\n",
    "print(f\"orange: {mean_abs_differences(y_train, y_cross) :3f}\")\n",
    "print(f\"red: {mean_abs_differences(y_train, y_over)}\")\n",
    "\n",
    "plt.scatter(X_train, y_train)\n",
    "plt.plot(X_train, y_train_predicted+0.01, color='green')\n",
    "plt.plot(X_train, y_cross, color='orange')\n",
    "plt.plot(X_train, y_over, color='red')\n",
    "# plt.ylim(0, 260)"
   ]
  },
  {
   "attachments": {},
   "cell_type": "markdown",
   "metadata": {},
   "source": [
    "Минимальное значение функции $E_1$ достигается для зеленой прямой. В идеальном случае все точки лежали бы на прямой, и функция $E_1$ приняла бы значение 0. Это минимальное допустимое значение, так как сумма неотрицательных чисел не может быть меньше нуля. Чем больше точек отклоняются от прогнозируемых значений и чем сильнее они отклоняются, тем больше будет $E_1$. Поэтому можно сказать, что функция $E_1$ характеризует ошибочность модели на данных. Чем меньше будет $E_1$, тем меньше ее ошибочность, и, соответственно, лучше результаты. Такие функции называются **метриками**, а в частности рассмотренная функция $E_1$ называется метрикой L1 (или метрикой городских кварталов). В следующем разделе мы рассмотрим другую метрику."
   ]
  },
  {
   "attachments": {},
   "cell_type": "markdown",
   "metadata": {},
   "source": [
    "### Метод наименьших квадратов\n",
    "Метод наименьших квадратов представляет собой алгоритм машинного обучения, который позволяет решать задачу линейной регрессии. В этом методе параметры модели подгоняются так, чтобы среднее значение квадратов разностей $y_i - \\hat y_i$ оказалось минимальным.\n",
    "$$\n",
    "E_2 = \\frac{1}{n} \\sum_{i=1}^{n} (y_i - \\hat y_i)^2 = \\frac{1}{n}\\left[(y_1 - \\hat y_1)^2 + \\dots + (y_n - \\hat y_n)^2 \\right]\n",
    "$$\n",
    "Метрика $E_2$ называется L2 метрикой (или метрикой Евклида). \n",
    "\n",
    "В случае одномерной регрессии минимальное значение функции $E_2$ достигается при следующих значениях параметров $a$ и $b$:\n",
    "$$\\hat a = \\overline y - \\hat b \\overline x$$\n",
    "$$\\hat b = \\frac{ \\sum_{i=1}^n (x_i - \\overline x)(y_i - \\overline y)}{\\sum_{i=1}^n (x_i - \\overline x)^2}\n",
    "$$\n",
    "где $ \\overline x$ и  $\\overline y$ - это средние значения.\n",
    "\n",
    "Именно таким образом вычисляются оптимальные параметры модели класса `LinearRegression` при вызове метода `fit()`. Получить коэффициенты $a$ и $b$ из модели можно через свойства `intercept_` и `coef_` соответственно:"
   ]
  },
  {
   "cell_type": "code",
   "execution_count": 16,
   "metadata": {},
   "outputs": [
    {
     "name": "stdout",
     "output_type": "stream",
     "text": [
      "a = 46.0182803001278, b = array([7.36048055])\n"
     ]
    }
   ],
   "source": [
    "a = model.intercept_\n",
    "b = model.coef_\n",
    "print(f'{a = }, {b = }')"
   ]
  },
  {
   "attachments": {},
   "cell_type": "markdown",
   "metadata": {},
   "source": [
    "При вызове метода `predict()` модель вычисляет прогнозируемое значение для каждого $i$-го образца из `X_test` по формуле $\\hat y_i = a + bx_i$. Убедимся в этом самостоятельно вычислив значения $\\hat y_i$ воспользовавшись полученными из модели параметрами `a` и `b`:"
   ]
  },
  {
   "cell_type": "code",
   "execution_count": 17,
   "metadata": {},
   "outputs": [
    {
     "data": {
      "text/plain": [
       "Text(0, 0.5, 'ice_cream_sales')"
      ]
     },
     "execution_count": 17,
     "metadata": {},
     "output_type": "execute_result"
    },
    {
     "data": {
      "image/png": "[encoded data removed]",
      "text/plain": [
       "<Figure size 640x480 with 1 Axes>"
      ]
     },
     "metadata": {},
     "output_type": "display_data"
    }
   ],
   "source": [
    "y = a + b * X_train\n",
    "# y = model.predict(X_train.reshape(-1, 1))\n",
    "\n",
    "plt.scatter(X_train, y_train, c='grey', s=15)\n",
    "plt.scatter(X_test, y_test, c='green')\n",
    "plt.plot(X_train, y)\n",
    "# plt.plot(X_train, y_train_predicted)\n",
    "plt.ylim(0, 270)\n",
    "plt.xlabel('temperature')\n",
    "plt.ylabel('ice_cream_sales')"
   ]
  },
  {
   "attachments": {},
   "cell_type": "markdown",
   "metadata": {},
   "source": [
    "## Если признаков много\n",
    "В рассмотренном примере всего один нецелевой признак, поэтому решалась задача одномерной регрессии. Как упоминалось выше, признаков $x_1, x_2, \\ldots, x_n$, от которых зависит целевой признак $y$ может быть несколько. Тогда мы имеем дело с многомерной регрессией. Если модели класса `LinearRegression` \"скормить\" данные, содержащие $n$ признаков, то она создаст внутри себя параметры $a, b_1, b_2, \\ldots, b_n$ и подгонит их так, чтобы формула \n",
    "$$\n",
    "y = a + b_1 x_1 + b_2 x_2 + \\dots + b_n x_n\n",
    "$$\n",
    "выражала зависимость целевого признака $y$ от других признаков $x_1, x_2, \\ldots, x_n$."
   ]
  }
 ],
 "metadata": {
  "kernelspec": {
   "display_name": "tf",
   "language": "python",
   "name": "python3"
  },
  "language_info": {
   "codemirror_mode": {
    "name": "ipython",
    "version": 3
   },
   "file_extension": ".py",
   "mimetype": "text/x-python",
   "name": "python",
   "nbconvert_exporter": "python",
   "pygments_lexer": "ipython3",
   "version": "3.9.12"
  },
  "orig_nbformat": 4
 },
 "nbformat": 4,
 "nbformat_minor": 2
}
