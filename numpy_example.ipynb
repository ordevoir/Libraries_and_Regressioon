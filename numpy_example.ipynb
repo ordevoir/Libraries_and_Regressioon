{
 "cells": [
  {
   "attachments": {},
   "cell_type": "markdown",
   "metadata": {},
   "source": [
    "# NumPy <a href=\"https://numpy.org/\"><img src=\"https://numpy.org/images/logo.svg\" height=\"36\"></a>"
   ]
  },
  {
   "attachments": {},
   "cell_type": "markdown",
   "metadata": {},
   "source": [
    "NumPy (Numerical Python) - это библиотека для языка программирования Python, предназначенная для работы с массивами данных и выполнения математических операций над ними.\n",
    "\n",
    "NumPy предоставляет множество функций для выполнения операций линейной алгебры, обработки сигналов, обработки изображений и других вычислительных задач, которые требуют работу с массивами данных. Библиотека NumPy является основой для многих других библиотек, используемых в научных вычислениях и анализе данных, таких как Pandas, SciPy и Scikit-learn.\n",
    "\n",
    "Одним из главных преимуществ NumPy является возможность выполнения вычислений над массивами данных с высокой производительностью. NumPy использует оптимизированные алгоритмы, написанные на языке программирования C, что позволяет ему обрабатывать большие объемы данных с высокой скоростью.\n",
    "\n",
    "В NumPy определен многомерный массив (ndarray), который является основным объектом библиотеки. Этот объект представляет собой таблицу элементов (чисел), все из которых должны иметь одинаковый тип. NumPy также предоставляет функции для создания и манипулирования массивами данных, включая срезы (slicing), индексацию и изменение формы массивов. Подробности в [документации](https://numpy.org/doc/stable/).\n",
    "\n",
    "Установить библиотеку NumPy в Python можно выполнив в терминале\n",
    "\n",
    "`pip install numpy`"
   ]
  },
  {
   "cell_type": "code",
   "execution_count": 1,
   "metadata": {},
   "outputs": [],
   "source": [
    "import numpy as np"
   ]
  },
  {
   "attachments": {},
   "cell_type": "markdown",
   "metadata": {},
   "source": [
    "## Создание массивов"
   ]
  },
  {
   "cell_type": "code",
   "execution_count": 21,
   "metadata": {},
   "outputs": [
    {
     "name": "stdout",
     "output_type": "stream",
     "text": [
      "[1 4 6 8] [5 6 7 8]\n",
      "lenght: 4\n",
      "type: <class 'numpy.ndarray'>\n",
      "elements type: int32\n"
     ]
    }
   ],
   "source": [
    "x1 = np.array([1, 4, 6, 8])     # явное задание одномерного массива\n",
    "\n",
    "# массив numpy можно создать из списка (list):\n",
    "some_numeric_list = [5, 6, 7, 8]\n",
    "x2 = np.array(some_numeric_list)    # создание массива из списка\n",
    "\n",
    "print(x1, x2)\n",
    "print('lenght:', len(x1))\n",
    "print('type:', type(x1))\n",
    "print('elements type:', x1.dtype)"
   ]
  },
  {
   "cell_type": "code",
   "execution_count": 22,
   "metadata": {},
   "outputs": [
    {
     "name": "stdout",
     "output_type": "stream",
     "text": [
      "[[1. 4. 3. 2.]\n",
      " [4. 5. 6. 3.]\n",
      " [5. 1. 3. 7.]]\n",
      "форма массива: (3, 4)\n"
     ]
    }
   ],
   "source": [
    "# создадим двумерный массив (матрицу) с задаыннм типом значений\n",
    "x3 = np.array([\n",
    "    [1, 4, 3, 2],\n",
    "    [4, 5, 6, 3],\n",
    "    [5, 1, 3, 7],\n",
    "], dtype=np.float32)\n",
    "print(x3)\n",
    "print('array shape:', x3.shape)"
   ]
  },
  {
   "attachments": {},
   "cell_type": "markdown",
   "metadata": {},
   "source": [
    "Здесь явно задан тип `float32`. Полный список доступных типов [здесь](https://numpy.org/doc/1.17/user/basics.types.html)."
   ]
  },
  {
   "cell_type": "code",
   "execution_count": 4,
   "metadata": {},
   "outputs": [
    {
     "name": "stdout",
     "output_type": "stream",
     "text": [
      "zeros:\n",
      " [[0. 0. 0.]\n",
      " [0. 0. 0.]]\n",
      "\n",
      "ones:\n",
      " [[1. 1. 1. 1.]\n",
      " [1. 1. 1. 1.]]\n",
      "\n",
      "full:\n",
      " [[7. 7.]\n",
      " [7. 7.]]\n"
     ]
    }
   ],
   "source": [
    "# создадим массивы заданной формы, заполненные определенным значением\n",
    "xZeros = np.zeros((2, 3))                   # заполнение нулями\n",
    "xOnes = np.ones((2, 4))                     # заполнение единицами\n",
    "xFull = np.full((2, 2), fill_value=7.0)     # заполнение числом 7\n",
    "\n",
    "print('zeros:\\n', xZeros)\n",
    "print('\\nones:\\n', xOnes)\n",
    "print('\\nfull:\\n', xFull)"
   ]
  },
  {
   "cell_type": "code",
   "execution_count": 5,
   "metadata": {},
   "outputs": [
    {
     "name": "stdout",
     "output_type": "stream",
     "text": [
      "\n",
      "ones like:\n",
      " [[1. 1. 1.]\n",
      " [1. 1. 1.]]\n"
     ]
    }
   ],
   "source": [
    "# можно задать массив, заполненный определенным числом, форма \n",
    "# и тип значений которого повторяет форму и тип другого массива:\n",
    "\n",
    "xOnesLike = np.ones_like(x3)\n",
    "print('\\nones like:\\n', xOnesLike)\n",
    "\n",
    "# есть также функции zeros_like, fill_like"
   ]
  },
  {
   "cell_type": "code",
   "execution_count": 6,
   "metadata": {},
   "outputs": [
    {
     "name": "stdout",
     "output_type": "stream",
     "text": [
      "eye:\n",
      " [[1 0 0 0]\n",
      " [0 1 0 0]\n",
      " [0 0 1 0]\n",
      " [0 0 0 1]]\n",
      "\n",
      "diag:\n",
      " [[1 0 0 0]\n",
      " [0 2 0 0]\n",
      " [0 0 3 0]\n",
      " [0 0 0 4]]\n"
     ]
    }
   ],
   "source": [
    "# создание диагональных матриц\n",
    "xEye = np.eye(4, dtype=np.int16)    # значения по главной диагонали равны 1\n",
    "xDiag = np.diag(v=(1, 2, 3, 4))\n",
    "\n",
    "print('eye:\\n', xEye)\n",
    "print('\\ndiag:\\n', xDiag)"
   ]
  },
  {
   "cell_type": "code",
   "execution_count": 7,
   "metadata": {},
   "outputs": [
    {
     "name": "stdout",
     "output_type": "stream",
     "text": [
      "[0 1 2 3 4 5 6 7 8 9]\n",
      "[ 5  7  9 11 13]\n",
      "[15 13 11  9  7]\n"
     ]
    }
   ],
   "source": [
    "# можно задать массив состоящий из последовательности в заданном\n",
    "# диапазоне с заданным шагом:\n",
    "xArange = np.arange(10)             # задан только один аргумент\n",
    "yArange = np.arange(5, 15, 2)\n",
    "zArange = np.arange(15, 5, -2)\n",
    "\n",
    "# первый аргумент: стартовное значение последовательности\n",
    "# второй аргумент: финальное значение (не входит в последовательность)\n",
    "# третий аргумент: шаг последовательности\n",
    "\n",
    "print(xArange)\n",
    "print(yArange)\n",
    "print(zArange)"
   ]
  },
  {
   "cell_type": "code",
   "execution_count": 26,
   "metadata": {},
   "outputs": [
    {
     "name": "stdout",
     "output_type": "stream",
     "text": [
      "[ 5.          6.11111111  7.22222222  8.33333333  9.44444444 10.55555556\n",
      " 11.66666667 12.77777778 13.88888889 15.        ]\n",
      "float64\n"
     ]
    }
   ],
   "source": [
    "# равномерно распределенные значения в заданном диапазоне\n",
    "# с заданным число разбиения\n",
    "xSpace = np.linspace(5, 15, 10)\n",
    "print(xSpace)\n",
    "print(xSpace.dtype)"
   ]
  },
  {
   "attachments": {},
   "cell_type": "markdown",
   "metadata": {},
   "source": [
    "Здесь приведены наиболее часто используемые способы создания массивов. Полный списко функций, создающих массивы [здесь](https://numpy.org/doc/stable/reference/routines.array-creation.html#routines-array-creation)."
   ]
  },
  {
   "attachments": {},
   "cell_type": "markdown",
   "metadata": {},
   "source": [
    "## Операции над массивами"
   ]
  },
  {
   "attachments": {},
   "cell_type": "markdown",
   "metadata": {},
   "source": [
    "### Умножение всех элементов массива на число"
   ]
  },
  {
   "cell_type": "code",
   "execution_count": 8,
   "metadata": {},
   "outputs": [
    {
     "name": "stdout",
     "output_type": "stream",
     "text": [
      "[[ 2  4  6]\n",
      " [ 8 10 12]\n",
      " [14 16 18]]\n"
     ]
    }
   ],
   "source": [
    "# создадим первый массив:\n",
    "a = np.array([\n",
    "    [1, 2 ,3],\n",
    "    [4, 5, 6],\n",
    "    [7, 8, 9]\n",
    "])\n",
    "# второй массив создадим из первого, домножив его на 2:\n",
    "b = a * 2\n",
    "# второй массив будет результатом умножения всех элементов \n",
    "# первого массива на число 2\n",
    "print(b)"
   ]
  },
  {
   "attachments": {},
   "cell_type": "markdown",
   "metadata": {},
   "source": [
    "### Поэлементные операции"
   ]
  },
  {
   "cell_type": "code",
   "execution_count": 9,
   "metadata": {},
   "outputs": [
    {
     "name": "stdout",
     "output_type": "stream",
     "text": [
      "c:\n",
      " [[ 3  6  9]\n",
      " [12 15 18]\n",
      " [21 24 27]]\n",
      "d:\n",
      " [[  2   8  18]\n",
      " [ 32  50  72]\n",
      " [ 98 128 162]]\n"
     ]
    }
   ],
   "source": [
    "c = a + b\n",
    "d = a * b\n",
    "\n",
    "print('c:\\n', c)\n",
    "print('d:\\n', d)\n",
    "\n",
    "# подобным образом можно производить и поэлментное деление и вычитание"
   ]
  },
  {
   "attachments": {},
   "cell_type": "markdown",
   "metadata": {},
   "source": [
    "### Другие операции над массивами"
   ]
  },
  {
   "cell_type": "code",
   "execution_count": 10,
   "metadata": {},
   "outputs": [
    {
     "name": "stdout",
     "output_type": "stream",
     "text": [
      "3\n",
      "27\n",
      "135\n",
      "15.0\n"
     ]
    }
   ],
   "source": [
    "print(  c.min()     )      # значение минимального элемента\n",
    "print(  c.max()     )      # значение максималаьного элемента\n",
    "print(  c.sum()     )      # сумма всех элементов массива\n",
    "print(  c.mean()    )      # среднее арифметическое от всех элементов"
   ]
  },
  {
   "attachments": {},
   "cell_type": "markdown",
   "metadata": {},
   "source": [
    "### Доступ к элментам массива по индексам"
   ]
  },
  {
   "cell_type": "code",
   "execution_count": 11,
   "metadata": {},
   "outputs": [
    {
     "name": "stdout",
     "output_type": "stream",
     "text": [
      "[21 24 27]\n",
      "[ 6 15 24]\n",
      "21\n"
     ]
    }
   ],
   "source": [
    "print(c[2])     # доступ к строке с индексом 2\n",
    "print(c[:, 1])  # доступ к столбцу с индексом 1\n",
    "print(c[2, 0])  # доступ к элементу 2-ой строки 0-го столбца\n",
    "c[0, 1] = 42    # изменение значения элемента 0-ой строки 1-го столбца"
   ]
  },
  {
   "cell_type": "code",
   "execution_count": 12,
   "metadata": {},
   "outputs": [
    {
     "name": "stdout",
     "output_type": "stream",
     "text": [
      "3\n",
      "42\n",
      "9\n",
      "12\n",
      "15\n",
      "18\n",
      "21\n",
      "24\n",
      "27\n"
     ]
    }
   ],
   "source": [
    "# перебор всех элементов двумерного массива в цикле\n",
    "for i in range(c.shape[0]):\n",
    "    for j in range(c.shape[1]):\n",
    "        print(c[i, j])"
   ]
  }
 ],
 "metadata": {
  "kernelspec": {
   "display_name": "tf",
   "language": "python",
   "name": "python3"
  },
  "language_info": {
   "codemirror_mode": {
    "name": "ipython",
    "version": 3
   },
   "file_extension": ".py",
   "mimetype": "text/x-python",
   "name": "python",
   "nbconvert_exporter": "python",
   "pygments_lexer": "ipython3",
   "version": "3.9.12"
  },
  "orig_nbformat": 4
 },
 "nbformat": 4,
 "nbformat_minor": 2
}
