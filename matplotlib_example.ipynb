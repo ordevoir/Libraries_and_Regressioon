{
 "cells": [
  {
   "attachments": {},
   "cell_type": "markdown",
   "metadata": {},
   "source": [
    "# Matplotlib <a href=\"https://matplotlib.org/stable/tutorials/introductory/quick_start.html\"><img src=\"https://upload.wikimedia.org/wikipedia/commons/0/01/Created_with_Matplotlib-logo.svg\" height='36'></a>"
   ]
  },
  {
   "attachments": {},
   "cell_type": "markdown",
   "metadata": {},
   "source": [
    "Matplotlib это библиотека на языке Python для визуализации данных. Она позволяет создавать разнообразные графики, диаграммы, гистограммы, карты и другие типы визуализации данных. Для установки пакета matplotlib достаточно в терминале выполнить команду `pip install matplotlib`. Подробнее о том, как устанавливать пакеты в файле python_vscode_jupyter_installation.txt."
   ]
  },
  {
   "attachments": {},
   "cell_type": "markdown",
   "metadata": {},
   "source": [
    "## Генерация данных"
   ]
  },
  {
   "attachments": {},
   "cell_type": "markdown",
   "metadata": {},
   "source": [
    "Для начала создадим массивы для визуализации данных. В качестве входных данных рекомендуется использовать массивы NumPy. Первым делом создадим набор точек для абсцисс при помощи функции `linspase()`, которая создает последовательность чисел в заданном диапазоне. Первые два аргумента - границы диапазона; третий аргумент задает количество точек, на которое разбивается диапазон. Заметим, что правая граница тоже входит в образующуюся последовательность. В данном случае диапазон задается границами -5 и 10, и этот диапазон разбивается на 16 точек."
   ]
  },
  {
   "cell_type": "code",
   "execution_count": null,
   "metadata": {},
   "outputs": [],
   "source": [
    "import numpy as np\n",
    "\n",
    "x = np.linspace(-5, 10, 16)\n",
    "print(x, '\\nlenght:', len(x))"
   ]
  },
  {
   "attachments": {},
   "cell_type": "markdown",
   "metadata": {},
   "source": [
    "Теперь создадим три последовательности, соответствующие ординатам. В первом наборе будут содержаться точки, выражающие линейную зависимость от точек в массиве `x`. Во втором и третьем наборе будут содержаться точки, выражающие квадратичную и кубическую зависимости."
   ]
  },
  {
   "cell_type": "code",
   "execution_count": null,
   "metadata": {},
   "outputs": [],
   "source": [
    "y1 = 25. * x                # линейная зависимость\n",
    "y2 = 4.0 * x ** 2           # квадратичная зависимость\n",
    "y3 = 0.5 * x ** 3           # кубическая зависимость\n",
    "\n",
    "# напечатаем сгенерированные данные в наглядном виде:\n",
    "print(f\"  x\\t  y1\\t  y2\\t  y3\")\n",
    "for i in range(len(x)):\n",
    "    print(f\"{x[i]}\\t{y1[i]}\\t{y2[i]}\\t{y3[i]}\")"
   ]
  },
  {
   "cell_type": "code",
   "execution_count": null,
   "metadata": {},
   "outputs": [],
   "source": [
    "data = np.column_stack((x, y1, y2, y3))\n",
    "np.savetxt('data.csv', data, fmt='%s',\n",
    "           delimiter=',', header=('x,y1,y2,y3'))"
   ]
  },
  {
   "attachments": {},
   "cell_type": "markdown",
   "metadata": {},
   "source": [
    "## Визуализация данных"
   ]
  },
  {
   "attachments": {},
   "cell_type": "markdown",
   "metadata": {},
   "source": [
    "Визуализируем сгенерированные данные на одном графике. Функция `plt.scatter()` рисует точки,а `plt.plot()` рисует линии. Первый аргумент: последовательность точек для оси абсцисс, второй аркумент: последовательность точек для оси ординат. Длины этих последовательностей должны совпадать. Именованный аргумент label позволяет создать метку для графика, которая будет отображаться в легенде. Назначение других аргументов функции описаны в комментариях соответствующих строк."
   ]
  },
  {
   "cell_type": "code",
   "execution_count": null,
   "metadata": {},
   "outputs": [],
   "source": [
    "import matplotlib.pyplot as plt\n",
    "\n",
    "plt.figure(figsize=(6, 5), dpi=150)     # задается размер изображения \n",
    "                                        # и его разрешение (dpi)\n",
    "plt.plot(x, y1, label='linear $y_1=25x$', color='#5ca')\n",
    "plt.scatter(x, y2, label='quadratic $y_2=4x^2$')\n",
    "\n",
    "plt.plot(x, y3,                         # координаты\n",
    "         color='blue',                  # цвет линии\n",
    "         label='cubic $y_3=0.5x^3$',    # название легенды\n",
    "         linestyle='-.',                # стиль линии (пункктир)\n",
    "         linewidth=2)                   # толщина линии\n",
    "\n",
    "plt.legend()            # отображать легенды\n",
    "plt.grid()              # отображать сетку\n",
    "plt.xlabel('x')         # подпись для оси абсцисс\n",
    "plt.ylabel('y', loc='top', rotation=0)\n",
    "plt.title('Graphs')     # заголовок для графика\n",
    "plt.ylim(-200, 600)     # границы для оси ординат\n",
    "\n",
    "plt.show()"
   ]
  },
  {
   "attachments": {},
   "cell_type": "markdown",
   "metadata": {},
   "source": [
    "Получившееся изображение можно скопировать или сохранить на локальном диске.\n",
    "\n",
    "Рассмотренный способ визуализации называется pyplot-style, так как мы использовали только функции из модуля `pyplot`. Есть и другой, более гибкий способ визуализации - объектно-ориентированный стиль (object-oriented style). Сравнение этих двух интерфейсов приведено [здесь](https://matplotlib.org/matplotblog/posts/pyplot-vs-object-oriented-interface/). Подробная документация и примеры на официальном сайте [matplotlib](https://matplotlib.org/)."
   ]
  }
 ],
 "metadata": {
  "kernelspec": {
   "display_name": "tf",
   "language": "python",
   "name": "python3"
  },
  "language_info": {
   "codemirror_mode": {
    "name": "ipython",
    "version": 3
   },
   "file_extension": ".py",
   "mimetype": "text/x-python",
   "name": "python",
   "nbconvert_exporter": "python",
   "pygments_lexer": "ipython3",
   "version": "3.9.12"
  },
  "orig_nbformat": 4
 },
 "nbformat": 4,
 "nbformat_minor": 2
}
